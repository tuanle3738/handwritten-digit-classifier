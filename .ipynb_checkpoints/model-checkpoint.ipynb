{
 "cells": [
  {
   "cell_type": "markdown",
   "id": "6df9f1fd",
   "metadata": {},
   "source": [
    "# Simple Handwritten Digit Classifier"
   ]
  },
  {
   "cell_type": "markdown",
   "id": "0cffe4e1",
   "metadata": {
    "tags": []
   },
   "source": [
    "## Load and view the data"
   ]
  },
  {
   "cell_type": "code",
   "execution_count": 1,
   "id": "549357da",
   "metadata": {},
   "outputs": [],
   "source": [
    "import streamlit as st\n",
    "import tensorflow as tf\n",
    "from tensorflow.keras.datasets import mnist\n",
    "from tensorflow.keras import layers \n",
    "import pandas as pd\n",
    "import numpy as np\n",
    "import matplotlib.pyplot as plt"
   ]
  },
  {
   "cell_type": "code",
   "execution_count": 2,
   "id": "68d6305c",
   "metadata": {},
   "outputs": [],
   "source": [
    "# The data has already been splitted into train and test set\n",
    "(train_data, train_labels), (test_data, test_labels) = mnist.load_data()"
   ]
  },
  {
   "cell_type": "code",
   "execution_count": 3,
   "id": "5be75183",
   "metadata": {},
   "outputs": [
    {
     "name": "stdout",
     "output_type": "stream",
     "text": [
      "Training sample:\n",
      "[[  0   0   0   0   0   0   0   0   0   0   0   0   0   0   0   0   0   0\n",
      "    0   0   0   0   0   0   0   0   0   0]\n",
      " [  0   0   0   0   0   0   0   0   0   0   0   0   0   0   0   0   0   0\n",
      "    0   0   0   0   0   0   0   0   0   0]\n",
      " [  0   0   0   0   0   0   0   0   0   0   0   0   0   0   0   0   0   0\n",
      "    0   0   0   0   0   0   0   0   0   0]\n",
      " [  0   0   0   0   0   0   0   0   0   0   0   0   0   0   0   0   0   0\n",
      "    0   0   0   0   0   0   0   0   0   0]\n",
      " [  0   0   0   0   0   0   0   0   0   0   0   0   0   0   0   0   0   0\n",
      "    0   0   0   0   0   0   0   0   0   0]\n",
      " [  0   0   0   0   0   0   0   0   0   0   0   0   3  18  18  18 126 136\n",
      "  175  26 166 255 247 127   0   0   0   0]\n",
      " [  0   0   0   0   0   0   0   0  30  36  94 154 170 253 253 253 253 253\n",
      "  225 172 253 242 195  64   0   0   0   0]\n",
      " [  0   0   0   0   0   0   0  49 238 253 253 253 253 253 253 253 253 251\n",
      "   93  82  82  56  39   0   0   0   0   0]\n",
      " [  0   0   0   0   0   0   0  18 219 253 253 253 253 253 198 182 247 241\n",
      "    0   0   0   0   0   0   0   0   0   0]\n",
      " [  0   0   0   0   0   0   0   0  80 156 107 253 253 205  11   0  43 154\n",
      "    0   0   0   0   0   0   0   0   0   0]\n",
      " [  0   0   0   0   0   0   0   0   0  14   1 154 253  90   0   0   0   0\n",
      "    0   0   0   0   0   0   0   0   0   0]\n",
      " [  0   0   0   0   0   0   0   0   0   0   0 139 253 190   2   0   0   0\n",
      "    0   0   0   0   0   0   0   0   0   0]\n",
      " [  0   0   0   0   0   0   0   0   0   0   0  11 190 253  70   0   0   0\n",
      "    0   0   0   0   0   0   0   0   0   0]\n",
      " [  0   0   0   0   0   0   0   0   0   0   0   0  35 241 225 160 108   1\n",
      "    0   0   0   0   0   0   0   0   0   0]\n",
      " [  0   0   0   0   0   0   0   0   0   0   0   0   0  81 240 253 253 119\n",
      "   25   0   0   0   0   0   0   0   0   0]\n",
      " [  0   0   0   0   0   0   0   0   0   0   0   0   0   0  45 186 253 253\n",
      "  150  27   0   0   0   0   0   0   0   0]\n",
      " [  0   0   0   0   0   0   0   0   0   0   0   0   0   0   0  16  93 252\n",
      "  253 187   0   0   0   0   0   0   0   0]\n",
      " [  0   0   0   0   0   0   0   0   0   0   0   0   0   0   0   0   0 249\n",
      "  253 249  64   0   0   0   0   0   0   0]\n",
      " [  0   0   0   0   0   0   0   0   0   0   0   0   0   0  46 130 183 253\n",
      "  253 207   2   0   0   0   0   0   0   0]\n",
      " [  0   0   0   0   0   0   0   0   0   0   0   0  39 148 229 253 253 253\n",
      "  250 182   0   0   0   0   0   0   0   0]\n",
      " [  0   0   0   0   0   0   0   0   0   0  24 114 221 253 253 253 253 201\n",
      "   78   0   0   0   0   0   0   0   0   0]\n",
      " [  0   0   0   0   0   0   0   0  23  66 213 253 253 253 253 198  81   2\n",
      "    0   0   0   0   0   0   0   0   0   0]\n",
      " [  0   0   0   0   0   0  18 171 219 253 253 253 253 195  80   9   0   0\n",
      "    0   0   0   0   0   0   0   0   0   0]\n",
      " [  0   0   0   0  55 172 226 253 253 253 253 244 133  11   0   0   0   0\n",
      "    0   0   0   0   0   0   0   0   0   0]\n",
      " [  0   0   0   0 136 253 253 253 212 135 132  16   0   0   0   0   0   0\n",
      "    0   0   0   0   0   0   0   0   0   0]\n",
      " [  0   0   0   0   0   0   0   0   0   0   0   0   0   0   0   0   0   0\n",
      "    0   0   0   0   0   0   0   0   0   0]\n",
      " [  0   0   0   0   0   0   0   0   0   0   0   0   0   0   0   0   0   0\n",
      "    0   0   0   0   0   0   0   0   0   0]\n",
      " [  0   0   0   0   0   0   0   0   0   0   0   0   0   0   0   0   0   0\n",
      "    0   0   0   0   0   0   0   0   0   0]]\n",
      "\n",
      "Training labels:\n",
      "5\n",
      "\n"
     ]
    }
   ],
   "source": [
    "# Show the first training example\n",
    "print(f\"Training sample:\\n{train_data[0]}\\n\")\n",
    "print(f\"Training labels:\\n{train_labels[0]}\\n\")"
   ]
  },
  {
   "cell_type": "code",
   "execution_count": 4,
   "id": "4c27b9f6",
   "metadata": {},
   "outputs": [
    {
     "data": {
      "text/plain": [
       "((28, 28), ())"
      ]
     },
     "execution_count": 4,
     "metadata": {},
     "output_type": "execute_result"
    }
   ],
   "source": [
    "# Check the shape of a single example\n",
    "train_data[0].shape, train_labels[0].shape"
   ]
  },
  {
   "cell_type": "code",
   "execution_count": 5,
   "id": "2e7b4d1e",
   "metadata": {},
   "outputs": [
    {
     "data": {
      "image/png": "[encoded data removed]",
      "text/plain": [
       "<Figure size 640x480 with 1 Axes>"
      ]
     },
     "metadata": {},
     "output_type": "display_data"
    }
   ],
   "source": [
    "# Plot a single sample\n",
    "plt.imshow(train_data[10]);"
   ]
  },
  {
   "cell_type": "code",
   "execution_count": 6,
   "id": "3cde1b6e",
   "metadata": {},
   "outputs": [
    {
     "data": {
      "text/plain": [
       "3"
      ]
     },
     "execution_count": 6,
     "metadata": {},
     "output_type": "execute_result"
    }
   ],
   "source": [
    "# Check out sample label\n",
    "train_labels[10]"
   ]
  },
  {
   "cell_type": "code",
   "execution_count": 7,
   "id": "814a98a3",
   "metadata": {},
   "outputs": [
    {
     "data": {
      "text/plain": [
       "Text(0.5, 1.0, '4')"
      ]
     },
     "execution_count": 7,
     "metadata": {},
     "output_type": "execute_result"
    },
    {
     "data": {
      "image/png": "[encoded data removed]",
      "text/plain": [
       "<Figure size 640x480 with 1 Axes>"
      ]
     },
     "metadata": {},
     "output_type": "display_data"
    }
   ],
   "source": [
    "# Plot an example image and its label\n",
    "index_of_choice = 142\n",
    "plt.imshow(train_data[index_of_choice], cmap=plt.cm.binary)\n",
    "plt.title(train_labels[index_of_choice])"
   ]
  },
  {
   "cell_type": "code",
   "execution_count": 8,
   "id": "0a072a31",
   "metadata": {},
   "outputs": [
    {
     "data": {
      "image/png": "[encoded data removed]",
      "text/plain": [
       "<Figure size 700x700 with 4 Axes>"
      ]
     },
     "metadata": {},
     "output_type": "display_data"
    }
   ],
   "source": [
    "# Plot multiple random images of fashion mnist\n",
    "import random\n",
    "plt.figure(figsize=(7, 7))\n",
    "for i in range(4):\n",
    "  ax = plt.subplot(2, 2, i+1)\n",
    "  rand_index = random.choice(range(len(train_data)))\n",
    "  plt.imshow(train_data[rand_index], cmap=plt.cm.binary)\n",
    "  plt.title(train_labels[rand_index])\n",
    "  plt.axis(False);"
   ]
  },
  {
   "cell_type": "markdown",
   "id": "9cae4cae",
   "metadata": {
    "tags": []
   },
   "source": [
    "## Building a multiclass classification model"
   ]
  },
  {
   "cell_type": "code",
   "execution_count": 9,
   "id": "1cec6dba",
   "metadata": {},
   "outputs": [
    {
     "data": {
      "text/plain": [
       "(0, 255)"
      ]
     },
     "execution_count": 9,
     "metadata": {},
     "output_type": "execute_result"
    }
   ],
   "source": [
    "# Check the min and max of train data\n",
    "train_data.min(), train_data.max()"
   ]
  },
  {
   "cell_type": "code",
   "execution_count": 10,
   "id": "f7f5a2de",
   "metadata": {},
   "outputs": [],
   "source": [
    "# Normalize train/test data\n",
    "train_data_norm = train_data / 255.0\n",
    "test_data_norm = test_data / 255.0"
   ]
  },
  {
   "cell_type": "markdown",
   "id": "c9f95b4c",
   "metadata": {},
   "source": [
    "### Base model"
   ]
  },
  {
   "cell_type": "code",
   "execution_count": 11,
   "id": "5b3c6b17",
   "metadata": {
    "scrolled": true
   },
   "outputs": [
    {
     "name": "stdout",
     "output_type": "stream",
     "text": [
      "Metal device set to: Apple M1\n",
      "Epoch 1/5\n"
     ]
    },
    {
     "name": "stderr",
     "output_type": "stream",
     "text": [
      "2023-05-28 17:58:13.870871: W tensorflow/tsl/platform/profile_utils/cpu_utils.cc:128] Failed to get CPU frequency: 0 Hz\n"
     ]
    },
    {
     "name": "stdout",
     "output_type": "stream",
     "text": [
      "1875/1875 [==============================] - 11s 6ms/step - loss: 1.0019 - accuracy: 0.6753 - val_loss: 0.6765 - val_accuracy: 0.7884\n",
      "Epoch 2/5\n",
      "1875/1875 [==============================] - 10s 5ms/step - loss: 0.6335 - accuracy: 0.8099 - val_loss: 0.6009 - val_accuracy: 0.8215\n",
      "Epoch 3/5\n",
      "1875/1875 [==============================] - 10s 6ms/step - loss: 0.5832 - accuracy: 0.8275 - val_loss: 0.5668 - val_accuracy: 0.8345\n",
      "Epoch 4/5\n",
      "1875/1875 [==============================] - 10s 5ms/step - loss: 0.5527 - accuracy: 0.8410 - val_loss: 0.5480 - val_accuracy: 0.8441\n",
      "Epoch 5/5\n",
      "1875/1875 [==============================] - 11s 6ms/step - loss: 0.5331 - accuracy: 0.8482 - val_loss: 0.5319 - val_accuracy: 0.8522\n"
     ]
    }
   ],
   "source": [
    "# Set random seed\n",
    "tf.random.set_seed(42)\n",
    "\n",
    "# Create a model\n",
    "model_1 = tf.keras.Sequential([\n",
    "    layers.Flatten(input_shape=(28,28)),\n",
    "    layers.Dense(4, activation=\"relu\"),\n",
    "    layers.Dense(10, activation=\"softmax\")\n",
    "])\n",
    "\n",
    "# Compile the model\n",
    "model_1.compile(loss=tf.keras.losses.SparseCategoricalCrossentropy(),\n",
    "                 optimizer=tf.keras.optimizers.legacy.Adam(),\n",
    "                 metrics=[\"accuracy\"])\n",
    "\n",
    "# Fit the model\n",
    "history_1 = model_1.fit(train_data_norm,\n",
    "                       train_labels,\n",
    "                       epochs=5,\n",
    "                       validation_data=(test_data_norm, test_labels))"
   ]
  },
  {
   "cell_type": "markdown",
   "id": "2ab7ad48",
   "metadata": {},
   "source": [
    "### Second model - try CNN"
   ]
  },
  {
   "cell_type": "code",
   "execution_count": 12,
   "id": "8efe2006",
   "metadata": {},
   "outputs": [
    {
     "name": "stdout",
     "output_type": "stream",
     "text": [
      "Epoch 1/5\n",
      "1875/1875 [==============================] - 19s 10ms/step - loss: 0.2076 - accuracy: 0.9401 - val_loss: 0.0964 - val_accuracy: 0.9702\n",
      "Epoch 2/5\n",
      "1875/1875 [==============================] - 17s 9ms/step - loss: 0.0790 - accuracy: 0.9775 - val_loss: 0.0656 - val_accuracy: 0.9782\n",
      "Epoch 3/5\n",
      "1875/1875 [==============================] - 18s 10ms/step - loss: 0.0603 - accuracy: 0.9824 - val_loss: 0.0574 - val_accuracy: 0.9809\n",
      "Epoch 4/5\n",
      "1875/1875 [==============================] - 15s 8ms/step - loss: 0.0499 - accuracy: 0.9848 - val_loss: 0.0564 - val_accuracy: 0.9828\n",
      "Epoch 5/5\n",
      "1875/1875 [==============================] - 16s 8ms/step - loss: 0.0421 - accuracy: 0.9870 - val_loss: 0.0539 - val_accuracy: 0.9827\n"
     ]
    }
   ],
   "source": [
    "# Set random seed\n",
    "tf.random.set_seed(42)\n",
    "\n",
    "# Create a model\n",
    "model_2 = tf.keras.Sequential([\n",
    "    layers.Conv2D(filters=32, kernel_size=3, activation=\"relu\", input_shape=(28, 28, 1)),\n",
    "    layers.MaxPooling2D(pool_size=2),\n",
    "    layers.Flatten(),\n",
    "    layers.Dense(10, activation=\"softmax\")\n",
    "])\n",
    "\n",
    "# Compile the model\n",
    "model_2.compile(loss=tf.keras.losses.SparseCategoricalCrossentropy(),\n",
    "                 optimizer=tf.keras.optimizers.legacy.Adam(),\n",
    "                 metrics=[\"accuracy\"])\n",
    "\n",
    "# Fit the model\n",
    "history_2 = model_2.fit(train_data_norm,\n",
    "                        train_labels,\n",
    "                        epochs=5,\n",
    "                        validation_data=(test_data_norm, test_labels))\n"
   ]
  },
  {
   "cell_type": "markdown",
   "id": "865ca7e3-1145-43e2-8624-8b01f19234fa",
   "metadata": {},
   "source": [
    "### Let's combine these models"
   ]
  },
  {
   "cell_type": "code",
   "execution_count": 13,
   "id": "98afc809",
   "metadata": {},
   "outputs": [
    {
     "name": "stdout",
     "output_type": "stream",
     "text": [
      "Epoch 1/10\n",
      "1875/1875 [==============================] - 21s 11ms/step - loss: 0.1438 - accuracy: 0.9558 - val_loss: 0.0528 - val_accuracy: 0.9825\n",
      "Epoch 2/10\n",
      "1875/1875 [==============================] - 21s 11ms/step - loss: 0.0495 - accuracy: 0.9844 - val_loss: 0.0351 - val_accuracy: 0.9880\n",
      "Epoch 3/10\n",
      "1875/1875 [==============================] - 20s 11ms/step - loss: 0.0337 - accuracy: 0.9894 - val_loss: 0.0276 - val_accuracy: 0.9923\n",
      "Epoch 4/10\n",
      "1875/1875 [==============================] - 20s 11ms/step - loss: 0.0250 - accuracy: 0.9922 - val_loss: 0.0322 - val_accuracy: 0.9906\n",
      "Epoch 5/10\n",
      "1875/1875 [==============================] - 20s 11ms/step - loss: 0.0206 - accuracy: 0.9934 - val_loss: 0.0352 - val_accuracy: 0.9900\n",
      "Epoch 6/10\n",
      "1875/1875 [==============================] - 20s 11ms/step - loss: 0.0157 - accuracy: 0.9948 - val_loss: 0.0362 - val_accuracy: 0.9910\n",
      "Epoch 7/10\n",
      "1875/1875 [==============================] - 21s 11ms/step - loss: 0.0151 - accuracy: 0.9951 - val_loss: 0.0343 - val_accuracy: 0.9901\n",
      "Epoch 8/10\n",
      "1875/1875 [==============================] - 20s 11ms/step - loss: 0.0118 - accuracy: 0.9959 - val_loss: 0.0420 - val_accuracy: 0.9907\n",
      "Epoch 9/10\n",
      "1875/1875 [==============================] - 20s 11ms/step - loss: 0.0090 - accuracy: 0.9972 - val_loss: 0.0370 - val_accuracy: 0.9901\n",
      "Epoch 10/10\n",
      "1875/1875 [==============================] - 20s 11ms/step - loss: 0.0096 - accuracy: 0.9970 - val_loss: 0.0426 - val_accuracy: 0.9896\n"
     ]
    }
   ],
   "source": [
    "# Set random seed\n",
    "tf.random.set_seed(42)\n",
    "\n",
    "# Create a model\n",
    "model_3 = tf.keras.Sequential([\n",
    "    layers.Conv2D(filters=32, kernel_size=3, activation=\"relu\", input_shape=(28, 28, 1)),\n",
    "    layers.MaxPooling2D(pool_size=2),\n",
    "    layers.Conv2D(filters=32, kernel_size=3, activation=\"relu\", input_shape=(28, 28, 1)),\n",
    "    layers.MaxPooling2D(pool_size=2),\n",
    "    layers.Flatten(),\n",
    "    layers.Dense(128, activation=\"relu\"),\n",
    "    layers.Dense(128, activation=\"relu\"),\n",
    "    layers.Dense(10, activation=\"softmax\")\n",
    "])\n",
    "\n",
    "# Compile the model\n",
    "model_3.compile(loss=tf.keras.losses.SparseCategoricalCrossentropy(),\n",
    "                 optimizer=tf.keras.optimizers.legacy.Adam(),\n",
    "                 metrics=[\"accuracy\"])\n",
    "\n",
    "# Fit the model\n",
    "history_3 = model_3.fit(train_data_norm,\n",
    "                        train_labels,\n",
    "                        epochs=10,\n",
    "                        validation_data=(test_data_norm, test_labels))"
   ]
  },
  {
   "cell_type": "code",
   "execution_count": 14,
   "id": "e2d0643d-b853-477f-9430-97719394d481",
   "metadata": {},
   "outputs": [
    {
     "data": {
      "text/plain": [
       "<Axes: >"
      ]
     },
     "execution_count": 14,
     "metadata": {},
     "output_type": "execute_result"
    },
    {
     "data": {
      "image/png": "[encoded data removed]",
      "text/plain": [
       "<Figure size 640x480 with 1 Axes>"
      ]
     },
     "metadata": {},
     "output_type": "display_data"
    }
   ],
   "source": [
    "pd.DataFrame(history_3.history).plot()"
   ]
  },
  {
   "cell_type": "code",
   "execution_count": 15,
   "id": "642bcca9-c5b8-4c5e-b951-88f3bcbb47f7",
   "metadata": {},
   "outputs": [
    {
     "name": "stdout",
     "output_type": "stream",
     "text": [
      "Epoch 1/10\n",
      "1875/1875 [==============================] - 23s 12ms/step - loss: 0.4477 - accuracy: 0.8505 - val_loss: 0.1056 - val_accuracy: 0.9651\n",
      "Epoch 2/10\n",
      "1875/1875 [==============================] - 22s 12ms/step - loss: 0.1708 - accuracy: 0.9470 - val_loss: 0.0698 - val_accuracy: 0.9769\n",
      "Epoch 3/10\n",
      "1875/1875 [==============================] - 27s 14ms/step - loss: 0.1310 - accuracy: 0.9578 - val_loss: 0.0885 - val_accuracy: 0.9698\n",
      "Epoch 4/10\n",
      "1875/1875 [==============================] - 23s 12ms/step - loss: 0.1106 - accuracy: 0.9654 - val_loss: 0.0604 - val_accuracy: 0.9803\n",
      "Epoch 5/10\n",
      "1875/1875 [==============================] - 22s 12ms/step - loss: 0.0996 - accuracy: 0.9690 - val_loss: 0.0506 - val_accuracy: 0.9844\n",
      "Epoch 6/10\n",
      "1875/1875 [==============================] - 22s 12ms/step - loss: 0.0912 - accuracy: 0.9716 - val_loss: 0.0625 - val_accuracy: 0.9793\n",
      "Epoch 7/10\n",
      "1875/1875 [==============================] - 23s 12ms/step - loss: 0.0859 - accuracy: 0.9729 - val_loss: 0.0496 - val_accuracy: 0.9833\n",
      "Epoch 8/10\n",
      "1875/1875 [==============================] - 25s 13ms/step - loss: 0.0807 - accuracy: 0.9747 - val_loss: 0.0449 - val_accuracy: 0.9842\n",
      "Epoch 9/10\n",
      "1875/1875 [==============================] - 26s 14ms/step - loss: 0.0789 - accuracy: 0.9751 - val_loss: 0.0419 - val_accuracy: 0.9860\n",
      "Epoch 10/10\n",
      "1875/1875 [==============================] - 24s 13ms/step - loss: 0.0716 - accuracy: 0.9773 - val_loss: 0.0468 - val_accuracy: 0.9846\n"
     ]
    }
   ],
   "source": [
    "from tensorflow.keras.preprocessing.image import ImageDataGenerator\n",
    "\n",
    "# Create an instance of ImageDataGenerator for data augmentation\n",
    "datagen = ImageDataGenerator(\n",
    "    rotation_range=10,  # Randomly rotate images within the range of 10 degrees\n",
    "    width_shift_range=0.1,  # Randomly shift images horizontally by a fraction of the width\n",
    "    height_shift_range=0.1,  # Randomly shift images vertically by a fraction of the height\n",
    "    zoom_range=0.1,  # Randomly zoom images by a factor of 0.1\n",
    "    horizontal_flip=True  # Randomly flip images horizontally\n",
    ")\n",
    "\n",
    "# Fit the ImageDataGenerator to the training data\n",
    "datagen.fit(train_data_norm.reshape(-1, 28, 28, 1))\n",
    "\n",
    "# Set random seed\n",
    "tf.random.set_seed(42)\n",
    "\n",
    "# Create a model\n",
    "model_4 = tf.keras.Sequential([\n",
    "    layers.Conv2D(filters=32, kernel_size=3, activation=\"relu\", input_shape=(28, 28, 1)),\n",
    "    layers.MaxPooling2D(pool_size=2),\n",
    "    layers.Conv2D(filters=32, kernel_size=3, activation=\"relu\"),\n",
    "    layers.MaxPooling2D(pool_size=2),\n",
    "    layers.Flatten(),\n",
    "    layers.Dense(128, activation=\"relu\"),\n",
    "    layers.Dense(128, activation=\"relu\"),\n",
    "    layers.Dense(10, activation=\"softmax\")\n",
    "])\n",
    "\n",
    "# Compile the model\n",
    "model_4.compile(loss=tf.keras.losses.SparseCategoricalCrossentropy(),\n",
    "                 optimizer=tf.keras.optimizers.legacy.Adam(),\n",
    "                 metrics=[\"accuracy\"])\n",
    "\n",
    "# Fit the model with augmented data\n",
    "history_4 = model_4.fit(datagen.flow(train_data_norm.reshape(-1, 28, 28, 1), train_labels, batch_size=32),\n",
    "                        epochs=10,\n",
    "                        validation_data=(test_data_norm.reshape(-1, 28, 28, 1), test_labels))"
   ]
  },
  {
   "cell_type": "code",
   "execution_count": 16,
   "id": "667b8cad-9c8d-4bc5-8e60-a3133ebf64b0",
   "metadata": {},
   "outputs": [
    {
     "name": "stdout",
     "output_type": "stream",
     "text": [
      "Epoch 1/10\n",
      "1875/1875 [==============================] - 22s 11ms/step - loss: 0.1500 - accuracy: 0.9535 - val_loss: 0.0644 - val_accuracy: 0.9788 - lr: 0.0010\n",
      "Epoch 2/10\n",
      "1875/1875 [==============================] - 21s 11ms/step - loss: 0.0533 - accuracy: 0.9832 - val_loss: 0.0558 - val_accuracy: 0.9813 - lr: 0.0013\n",
      "Epoch 3/10\n",
      "1875/1875 [==============================] - 23s 12ms/step - loss: 0.0436 - accuracy: 0.9865 - val_loss: 0.0381 - val_accuracy: 0.9870 - lr: 0.0016\n",
      "Epoch 4/10\n",
      "1875/1875 [==============================] - 23s 12ms/step - loss: 0.0359 - accuracy: 0.9892 - val_loss: 0.0448 - val_accuracy: 0.9875 - lr: 0.0020\n",
      "Epoch 5/10\n",
      "1875/1875 [==============================] - 23s 12ms/step - loss: 0.0385 - accuracy: 0.9880 - val_loss: 0.0324 - val_accuracy: 0.9901 - lr: 0.0025\n",
      "Epoch 6/10\n",
      "1875/1875 [==============================] - 22s 12ms/step - loss: 0.0365 - accuracy: 0.9885 - val_loss: 0.0481 - val_accuracy: 0.9859 - lr: 0.0032\n",
      "Epoch 7/10\n",
      "1875/1875 [==============================] - 22s 12ms/step - loss: 0.0458 - accuracy: 0.9871 - val_loss: 0.0446 - val_accuracy: 0.9880 - lr: 0.0040\n",
      "Epoch 8/10\n",
      "1875/1875 [==============================] - 20s 11ms/step - loss: 0.0516 - accuracy: 0.9863 - val_loss: 0.0736 - val_accuracy: 0.9812 - lr: 0.0050\n",
      "Epoch 9/10\n",
      "1875/1875 [==============================] - 20s 11ms/step - loss: 0.0609 - accuracy: 0.9843 - val_loss: 0.0892 - val_accuracy: 0.9761 - lr: 0.0063\n",
      "Epoch 10/10\n",
      "1875/1875 [==============================] - 24s 13ms/step - loss: 0.0771 - accuracy: 0.9814 - val_loss: 0.0777 - val_accuracy: 0.9821 - lr: 0.0079\n"
     ]
    }
   ],
   "source": [
    "# Data augmentation does not help, let's keep model 3\n",
    "# Set random seed\n",
    "tf.random.set_seed(42)\n",
    "\n",
    "# Create a model\n",
    "model_5 = tf.keras.Sequential([\n",
    "    layers.Conv2D(filters=32, kernel_size=3, activation=\"relu\", input_shape=(28, 28, 1)),\n",
    "    layers.MaxPooling2D(pool_size=2),\n",
    "    layers.Conv2D(filters=32, kernel_size=3, activation=\"relu\", input_shape=(28, 28, 1)),\n",
    "    layers.MaxPooling2D(pool_size=2),\n",
    "    layers.Flatten(),\n",
    "    layers.Dense(128, activation=\"relu\"),\n",
    "    layers.Dense(128, activation=\"relu\"),\n",
    "    layers.Dense(10, activation=\"softmax\")\n",
    "])\n",
    "\n",
    "# Compile the model\n",
    "model_5.compile(loss=tf.keras.losses.SparseCategoricalCrossentropy(),\n",
    "                 optimizer=tf.keras.optimizers.legacy.Adam(),\n",
    "                 metrics=[\"accuracy\"])\n",
    "\n",
    "# Create a learning rate scheduler\n",
    "lr_scheduler = tf.keras.callbacks.LearningRateScheduler(lambda epoch: 1e-3 * 10**(epoch/10))\n",
    "\n",
    "# Fit the model\n",
    "history_5 = model_5.fit(train_data_norm,\n",
    "                        train_labels,\n",
    "                        epochs=10,\n",
    "                        validation_data=(test_data_norm, test_labels),\n",
    "                       callbacks=[lr_scheduler])"
   ]
  },
  {
   "cell_type": "code",
   "execution_count": 17,
   "id": "d15da4e5-b9b2-47d3-a0a5-aa581bb2020f",
   "metadata": {},
   "outputs": [
    {
     "data": {
      "text/plain": [
       "Text(0.5, 1.0, 'finding the ideal learning rate')"
      ]
     },
     "execution_count": 17,
     "metadata": {},
     "output_type": "execute_result"
    },
    {
     "data": {
      "image/png": "[encoded data removed]",
      "text/plain": [
       "<Figure size 640x480 with 1 Axes>"
      ]
     },
     "metadata": {},
     "output_type": "display_data"
    }
   ],
   "source": [
    "lrs = 1e-3 * (10**(tf.range(10)/10))\n",
    "plt.semilogx(lrs, history_5.history[\"loss\"])\n",
    "plt.xlabel(\"Learning rate\")\n",
    "plt.ylabel(\"Loss\")\n",
    "plt.title(\"finding the ideal learning rate\")"
   ]
  },
  {
   "cell_type": "code",
   "execution_count": 18,
   "id": "c00a2b51-ada0-4fa7-8469-9f2f1fa0f187",
   "metadata": {},
   "outputs": [
    {
     "name": "stdout",
     "output_type": "stream",
     "text": [
      "Epoch 1/10\n",
      "1875/1875 [==============================] - 22s 11ms/step - loss: 0.1301 - accuracy: 0.9588 - val_loss: 0.0643 - val_accuracy: 0.9789\n",
      "Epoch 2/10\n",
      "1875/1875 [==============================] - 21s 11ms/step - loss: 0.0493 - accuracy: 0.9848 - val_loss: 0.0571 - val_accuracy: 0.9828\n",
      "Epoch 3/10\n",
      "1875/1875 [==============================] - 22s 12ms/step - loss: 0.0362 - accuracy: 0.9890 - val_loss: 0.0330 - val_accuracy: 0.9900\n",
      "Epoch 4/10\n",
      "1875/1875 [==============================] - 22s 12ms/step - loss: 0.0295 - accuracy: 0.9910 - val_loss: 0.0403 - val_accuracy: 0.9879\n",
      "Epoch 5/10\n",
      "1875/1875 [==============================] - 21s 11ms/step - loss: 0.0229 - accuracy: 0.9928 - val_loss: 0.0374 - val_accuracy: 0.9901\n",
      "Epoch 6/10\n",
      "1875/1875 [==============================] - 20s 11ms/step - loss: 0.0191 - accuracy: 0.9940 - val_loss: 0.0584 - val_accuracy: 0.9861\n",
      "Epoch 7/10\n",
      "1875/1875 [==============================] - 24s 13ms/step - loss: 0.0188 - accuracy: 0.9941 - val_loss: 0.0440 - val_accuracy: 0.9882\n",
      "Epoch 8/10\n",
      "1875/1875 [==============================] - 23s 12ms/step - loss: 0.0162 - accuracy: 0.9953 - val_loss: 0.0425 - val_accuracy: 0.9901\n",
      "Epoch 9/10\n",
      "1875/1875 [==============================] - 20s 11ms/step - loss: 0.0150 - accuracy: 0.9957 - val_loss: 0.0384 - val_accuracy: 0.9910\n",
      "Epoch 10/10\n",
      "1875/1875 [==============================] - 21s 11ms/step - loss: 0.0138 - accuracy: 0.9959 - val_loss: 0.0431 - val_accuracy: 0.9903\n"
     ]
    }
   ],
   "source": [
    "# Data augmentation does not help, let's keep model 3\n",
    "# Set random seed\n",
    "tf.random.set_seed(42)\n",
    "\n",
    "# Create a model\n",
    "model_6 = tf.keras.Sequential([\n",
    "    layers.Conv2D(filters=32, kernel_size=3, activation=\"relu\", input_shape=(28, 28, 1)),\n",
    "    layers.MaxPooling2D(pool_size=2),\n",
    "    layers.Conv2D(filters=32, kernel_size=3, activation=\"relu\", input_shape=(28, 28, 1)),\n",
    "    layers.MaxPooling2D(pool_size=2),\n",
    "    layers.Flatten(),\n",
    "    layers.Dense(128, activation=\"relu\"),\n",
    "    layers.Dense(128, activation=\"relu\"),\n",
    "    layers.Dense(10, activation=\"softmax\")\n",
    "])\n",
    "\n",
    "# Compile the model\n",
    "model_6.compile(loss=tf.keras.losses.SparseCategoricalCrossentropy(),\n",
    "                 optimizer=tf.keras.optimizers.legacy.Adam(learning_rate=0.002),\n",
    "                 metrics=[\"accuracy\"])\n",
    "\n",
    "# Fit the model\n",
    "history_6 = model_6.fit(train_data_norm,\n",
    "                        train_labels,\n",
    "                        epochs=10,\n",
    "                        validation_data=(test_data_norm, test_labels))"
   ]
  },
  {
   "cell_type": "code",
   "execution_count": 19,
   "id": "2d4e16f9-9ebc-478a-9ad1-fc1f03e3397c",
   "metadata": {},
   "outputs": [
    {
     "data": {
      "text/plain": [
       "<Axes: >"
      ]
     },
     "execution_count": 19,
     "metadata": {},
     "output_type": "execute_result"
    },
    {
     "data": {
      "image/png": "[encoded data removed]",
      "text/plain": [
       "<Figure size 1000x700 with 1 Axes>"
      ]
     },
     "metadata": {},
     "output_type": "display_data"
    }
   ],
   "source": [
    "pd.DataFrame(history_6.history).plot(figsize=(10,7)) "
   ]
  },
  {
   "cell_type": "code",
   "execution_count": 22,
   "id": "63926a7e-334b-4dd7-8ec2-d7d6572147e1",
   "metadata": {},
   "outputs": [
    {
     "name": "stdout",
     "output_type": "stream",
     "text": [
      "Model: \"sequential_5\"\n",
      "_________________________________________________________________\n",
      " Layer (type)                Output Shape              Param #   \n",
      "=================================================================\n",
      " conv2d_7 (Conv2D)           (None, 26, 26, 32)        320       \n",
      "                                                                 \n",
      " max_pooling2d_7 (MaxPooling  (None, 13, 13, 32)       0         \n",
      " 2D)                                                             \n",
      "                                                                 \n",
      " conv2d_8 (Conv2D)           (None, 11, 11, 32)        9248      \n",
      "                                                                 \n",
      " max_pooling2d_8 (MaxPooling  (None, 5, 5, 32)         0         \n",
      " 2D)                                                             \n",
      "                                                                 \n",
      " flatten_5 (Flatten)         (None, 800)               0         \n",
      "                                                                 \n",
      " dense_12 (Dense)            (None, 128)               102528    \n",
      "                                                                 \n",
      " dense_13 (Dense)            (None, 128)               16512     \n",
      "                                                                 \n",
      " dense_14 (Dense)            (None, 10)                1290      \n",
      "                                                                 \n",
      "=================================================================\n",
      "Total params: 129,898\n",
      "Trainable params: 129,898\n",
      "Non-trainable params: 0\n",
      "_________________________________________________________________\n"
     ]
    }
   ],
   "source": [
    "model_6.summary()"
   ]
  },
  {
   "cell_type": "code",
   "execution_count": null,
   "id": "f416563b-ce80-4552-a9f4-6b3436ed47c2",
   "metadata": {},
   "outputs": [],
   "source": []
  }
 ],
 "metadata": {
  "kernelspec": {
   "display_name": "Python 3 (ipykernel)",
   "language": "python",
   "name": "python3"
  },
  "language_info": {
   "codemirror_mode": {
    "name": "ipython",
    "version": 3
   },
   "file_extension": ".py",
   "mimetype": "text/x-python",
   "name": "python",
   "nbconvert_exporter": "python",
   "pygments_lexer": "ipython3",
   "version": "3.8.16"
  }
 },
 "nbformat": 4,
 "nbformat_minor": 5
}
